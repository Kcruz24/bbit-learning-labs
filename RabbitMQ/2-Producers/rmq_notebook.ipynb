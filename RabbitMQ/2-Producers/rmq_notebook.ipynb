{
 "cells": [
  {
   "cell_type": "markdown",
   "metadata": {},
   "source": [
    "```python\n",
    "# Copyright 2022 Bloomberg Finance L.P.\n",
    "#\n",
    "# Licensed under the Apache License, Version 2.0 (the \"License\");\n",
    "# you may not use this file except in compliance with the License.\n",
    "# You may obtain a copy of the License at\n",
    "#\n",
    "#     http://www.apache.org/licenses/LICENSE-2.0\n",
    "#\n",
    "# Unless required by applicable law or agreed to in writing, software\n",
    "# distributed under the License is distributed on an \"AS IS\" BASIS,\n",
    "# WITHOUT WARRANTIES OR CONDITIONS OF ANY KIND, either express or implied.\n",
    "# See the License for the specific language governing permissions and\n",
    "# limitations under the License.\n",
    "```\n",
    "\n",
    "# Rabbit MQ Learning Item\n",
    "\n",
    "### What is Rabbit MQ?\n",
    "\n",
    "TODO Add high level description of Rabbit MQ & reference\n",
    "\n",
    "### Producing Data\n",
    "\n",
    "In queuing we have two main sides, producers & consumers. You can various permutation(TODO find right word for multiplex) of relationships between producers & consumer(I.E 1 Producer to 1 consumer or 1 Producer to N Consumers). Within RMQ producers generate messages which can be any generic data that can be seralized & deserilized by consumers.\n",
    "\n",
    "Once the data is created a producer can choose what queue to place the data on. This is done using a routing key within RabbitMQ. At a high level this routing key tells the rabbitMQ framework that the producer would like to send this message to queues that match a given regex string. As a more concrete example I may have a message intented for a particular set of schools that are all in the US. My routing key in that senario would be \"US\" which would signal this particular message should go to queues designated as US.\n",
    "\n",
    "### Problem Definition\n",
    "\n",
    "We want to create a class that is setup to be a producer in the rabbitMQ framework. This class should publish a simple UTF-8 string message with some sort of unique identify (time, counter, etc). This class should loop sending messages until the program recieves an exit signal. The class should be able to take a delay interval which signal how long we should wait before send the next message. The class should also take the routing key to be used on construction \n",
    "\n",
    "- Allow for RMQ routing key to be passed in during class construction\n",
    "- Allow for publishing delay to be passed in during class construction\n",
    "- Publish generic message with some form of unique indentifier for each message\n",
    "- *Bounus* Allow for function pointer for message generation which is used by publishing class\n",
    "\n",
    "### Provided Tools\n",
    "\n",
    "#### *Data Source*\n",
    "\n",
    "For this section no data generators are provided\n",
    "\n",
    "#### *Solution Interface*\n",
    "\n",
    "For this section no interface is required for your producer. \n",
    "\n",
    "```python\n",
    "#filename interfaces.securityInterface.py\n",
    "#Security Class Interface\n",
    "class securityInterface():\n",
    "    def __init__(self, name: str) -> None:\n",
    "        pass\n",
    "    \n",
    "    def getName(self) -> str:\n",
    "        return \"Implement Me!\"\n",
    "```\n",
    "\n",
    "#### *Testing*\n",
    "\n",
    "TODO "
   ]
  },
  {
   "cell_type": "code",
   "execution_count": null,
   "metadata": {},
   "outputs": [
    {
     "ename": "",
     "evalue": "",
     "output_type": "error",
     "traceback": [
      "\u001b[1;31mRunning cells with 'Python 3.9.5 64-bit' requires ipykernel package.\n",
      "\u001b[1;31mRun the following command to install 'ipykernel' into the Python environment. \n",
      "\u001b[1;31mCommand: 'c:/Users/Mesha/AppData/Local/Programs/Python/Python39/python.exe -m pip install ipykernel -U --user --force-reinstall'"
     ]
    }
   ],
   "source": [
    "#%%writefile ../implementations/securitySolution.py \n",
    "#Uncomment line above & run cell to save solution\n",
    "#TODO Define class that implements securityInterface & allows for the management of a security"
   ]
  },
  {
   "cell_type": "code",
   "execution_count": null,
   "metadata": {},
   "outputs": [],
   "source": [
    "#Run this cell before running the your testing cell. This will setup the ipytest cell magic command. If you're running this notebook locally you may need to install ipytest from pip or conda\n",
    "#%conda install ipytest\n",
    "#%pip install ipytest\n",
    "import ipytest\n",
    "\n",
    "ipytest.autoconfig()"
   ]
  },
  {
   "cell_type": "code",
   "execution_count": null,
   "metadata": {},
   "outputs": [],
   "source": [
    "%%ipytest -qq\n",
    "\n",
    "#Testing Cell\n",
    "import implementations.securitySolution\n",
    "import importlib\n",
    "importlib.reload(implementations.securitySolution)\n",
    "\n",
    "def test_securityInit():\n",
    "    #GIVEN\n",
    "    EXPECTED_NAME = \"DSAQ US Equity\"\n",
    "\n",
    "    #WHEN\n",
    "    testObj = implementations.securitySolution.security(EXPECTED_NAME)\n",
    "\n",
    "    #EXPECT\n",
    "    assert (testObj.getName() == EXPECTED_NAME)"
   ]
  }
 ],
 "metadata": {
  "kernelspec": {
   "display_name": "Python 3.9.5 64-bit",
   "language": "python",
   "name": "python3"
  },
  "language_info": {
   "codemirror_mode": {
    "name": "ipython",
    "version": 3
   },
   "file_extension": ".py",
   "mimetype": "text/x-python",
   "name": "python",
   "nbconvert_exporter": "python",
   "pygments_lexer": "ipython3",
   "version": "3.9.5"
  },
  "orig_nbformat": 4,
  "vscode": {
   "interpreter": {
    "hash": "6faf60acf2378adaaab85c2073b6c5e11a669e6a3edbe78352cafb6588944519"
   }
  }
 },
 "nbformat": 4,
 "nbformat_minor": 2
}
